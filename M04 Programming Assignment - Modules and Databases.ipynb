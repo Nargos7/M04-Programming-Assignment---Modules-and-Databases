{
 "cells": [
  {
   "cell_type": "code",
   "execution_count": 9,
   "id": "bf84028e",
   "metadata": {},
   "outputs": [
    {
     "ename": "ModuleNotFoundError",
     "evalue": "No module named 'zoo'",
     "output_type": "error",
     "traceback": [
      "\u001b[1;31m---------------------------------------------------------------------------\u001b[0m",
      "\u001b[1;31mModuleNotFoundError\u001b[0m                       Traceback (most recent call last)",
      "Cell \u001b[1;32mIn[9], line 8\u001b[0m\n\u001b[0;32m      4\u001b[0m     \u001b[38;5;28mprint\u001b[39m(\u001b[38;5;124m'\u001b[39m\u001b[38;5;124mOpen 9-5 daily\u001b[39m\u001b[38;5;124m'\u001b[39m)\n\u001b[0;32m      6\u001b[0m \u001b[38;5;66;03m#11.2 In the interactive interpreter, import the zoo module as menagerie \u001b[39;00m\n\u001b[0;32m      7\u001b[0m \u001b[38;5;66;03m#and call hours() function\u001b[39;00m\n\u001b[1;32m----> 8\u001b[0m \u001b[38;5;28;01mfrom\u001b[39;00m \u001b[38;5;21;01mzoo\u001b[39;00m \u001b[38;5;28;01mimport\u001b[39;00m hours\n\u001b[0;32m      9\u001b[0m hours()\n\u001b[0;32m     11\u001b[0m \u001b[38;5;66;03m#11.3 Staying in the interpreter, import the hours() function from zoo directly and call it.\u001b[39;00m\n",
      "\u001b[1;31mModuleNotFoundError\u001b[0m: No module named 'zoo'"
     ]
    }
   ],
   "source": [
    "#11.1 Create a file called zoo.py. In it, define a function called hours() \n",
    "#hat prints the string 'Open 9-5 daily'\n",
    "def hours():\n",
    "    print('Open 9-5 daily')\n",
    "\n",
    "#11.2 In the interactive interpreter, import the zoo module as menagerie \n",
    "#and call hours() function\n",
    "from zoo import hours\n",
    "hours()\n",
    "\n",
    "#11.3 Staying in the interpreter, import the hours() function from zoo directly and call it.\n",
    "import zoo as menagerie\n",
    "menagerie.hours()\n",
    "\n",
    "#I couldn't figure it out how to cteate modules in jupiter"
   ]
  },
  {
   "cell_type": "code",
   "execution_count": 12,
   "id": "09ac9f56",
   "metadata": {},
   "outputs": [],
   "source": [
    "from sqlalchemy import create_engine\n",
    "\n",
    "engine = create_engine('sqlite:///books.db')\n",
    "conn = engine.connect()\n",
    "\n",
    "result = conn.execute(\"SELECT title FROM books ORDER BY title ASC\")\n",
    "for row in result:\n",
    "    print(row['title'])\n",
    "\n",
    "conn.close()"
   ]
  },
  {
   "cell_type": "code",
   "execution_count": null,
   "id": "5207e101",
   "metadata": {},
   "outputs": [],
   "source": []
  }
 ],
 "metadata": {
  "kernelspec": {
   "display_name": "Python 3 (ipykernel)",
   "language": "python",
   "name": "python3"
  },
  "language_info": {
   "codemirror_mode": {
    "name": "ipython",
    "version": 3
   },
   "file_extension": ".py",
   "mimetype": "text/x-python",
   "name": "python",
   "nbconvert_exporter": "python",
   "pygments_lexer": "ipython3",
   "version": "3.11.5"
  }
 },
 "nbformat": 4,
 "nbformat_minor": 5
}
